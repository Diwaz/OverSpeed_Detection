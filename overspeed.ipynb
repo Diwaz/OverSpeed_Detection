{
 "cells": [
  {
   "cell_type": "code",
   "execution_count": 3,
   "metadata": {},
   "outputs": [
    {
     "name": "stdout",
     "output_type": "stream",
     "text": [
      "Note: you may need to restart the kernel to use updated packages.Looking in indexes: https://pypi.org/simple, https://download.pytorch.org/whl/cu116\n",
      "Collecting torch\n",
      "  Downloading https://download.pytorch.org/whl/cu116/torch-1.13.1%2Bcu116-cp38-cp38-win_amd64.whl (2434.2 MB)\n",
      "Collecting torchvision\n",
      "  Downloading https://download.pytorch.org/whl/cu116/torchvision-0.14.1%2Bcu116-cp38-cp38-win_amd64.whl (4.8 MB)\n",
      "Collecting torchaudio\n",
      "  Downloading https://download.pytorch.org/whl/cu116/torchaudio-0.13.1%2Bcu116-cp38-cp38-win_amd64.whl (2.3 MB)\n",
      "Collecting typing-extensions\n",
      "  Using cached typing_extensions-4.4.0-py3-none-any.whl (26 kB)\n",
      "Requirement already satisfied: requests in c:\\users\\diwas\\appdata\\local\\programs\\python\\python38\\lib\\site-packages (from torchvision) (2.24.0)\n",
      "Requirement already satisfied: pillow!=8.3.*,>=5.3.0 in c:\\users\\diwas\\appdata\\local\\programs\\python\\python38\\lib\\site-packages (from torchvision) (7.1.1)\n",
      "Requirement already satisfied: numpy in c:\\users\\diwas\\appdata\\local\\programs\\python\\python38\\lib\\site-packages (from torchvision) (1.23.5)\n",
      "Requirement already satisfied: certifi>=2017.4.17 in c:\\users\\diwas\\appdata\\local\\programs\\python\\python38\\lib\\site-packages (from requests->torchvision) (2020.4.5.1)\n",
      "Requirement already satisfied: idna<3,>=2.5 in c:\\users\\diwas\\appdata\\local\\programs\\python\\python38\\lib\\site-packages (from requests->torchvision) (2.10)\n",
      "Requirement already satisfied: urllib3!=1.25.0,!=1.25.1,<1.26,>=1.21.1 in c:\\users\\diwas\\appdata\\local\\programs\\python\\python38\\lib\\site-packages (from requests->torchvision) (1.25.10)\n",
      "Requirement already satisfied: chardet<4,>=3.0.2 in c:\\users\\diwas\\appdata\\local\\programs\\python\\python38\\lib\\site-packages (from requests->torchvision) (3.0.4)\n",
      "Installing collected packages: typing-extensions, torch, torchvision, torchaudio\n",
      "Successfully installed torch-1.13.1+cu116 torchaudio-0.13.1+cu116 torchvision-0.14.1+cu116 typing-extensions-4.4.0\n",
      "\n"
     ]
    },
    {
     "name": "stderr",
     "output_type": "stream",
     "text": [
      "WARNING: You are using pip version 21.2.2; however, version 23.0 is available.\n",
      "You should consider upgrading via the 'c:\\Users\\diwas\\AppData\\Local\\Programs\\Python\\Python38\\python.exe -m pip install --upgrade pip' command.\n"
     ]
    }
   ],
   "source": [
    "pip install torch torchvision torchaudio --extra-index-url https://download.pytorch.org/whl/cu116"
   ]
  },
  {
   "cell_type": "code",
   "execution_count": 13,
   "metadata": {},
   "outputs": [
    {
     "name": "stderr",
     "output_type": "stream",
     "text": [
      "Cloning into 'yolov5'...\n"
     ]
    }
   ],
   "source": [
    "!git clone https://github.com/ultralytics/yolov5"
   ]
  },
  {
   "cell_type": "code",
   "execution_count": 25,
   "metadata": {},
   "outputs": [
    {
     "name": "stdout",
     "output_type": "stream",
     "text": [
      "Collecting gitpython\n",
      "  Using cached GitPython-3.1.30-py3-none-any.whl (184 kB)\n",
      "Requirement already satisfied: ipython in c:\\users\\diwas\\appdata\\roaming\\python\\python310\\site-packages (from -r requirements.txt (line 6)) (8.10.0)\n",
      "Requirement already satisfied: matplotlib>=3.2.2 in c:\\users\\diwas\\appdata\\roaming\\python\\python310\\site-packages (from -r requirements.txt (line 7)) (3.6.3)\n",
      "Requirement already satisfied: numpy>=1.18.5 in c:\\python310\\lib\\site-packages (from -r requirements.txt (line 8)) (1.23.5)\n",
      "Requirement already satisfied: opencv-python>=4.1.1 in c:\\python310\\lib\\site-packages (from -r requirements.txt (line 9)) (4.7.0.68)\n",
      "Requirement already satisfied: Pillow>=7.1.2 in c:\\python310\\lib\\site-packages (from -r requirements.txt (line 10)) (9.4.0)\n",
      "Requirement already satisfied: psutil in c:\\users\\diwas\\appdata\\roaming\\python\\python310\\site-packages (from -r requirements.txt (line 11)) (5.9.4)\n",
      "Collecting PyYAML>=5.3.1\n",
      "  Using cached PyYAML-6.0-cp310-cp310-win_amd64.whl (151 kB)\n",
      "Collecting requests>=2.23.0\n",
      "  Using cached requests-2.28.2-py3-none-any.whl (62 kB)\n",
      "Requirement already satisfied: scipy>=1.4.1 in c:\\users\\diwas\\appdata\\roaming\\python\\python310\\site-packages (from -r requirements.txt (line 14)) (1.9.3)\n",
      "Collecting thop>=0.1.1\n",
      "  Using cached thop-0.1.1.post2209072238-py3-none-any.whl (15 kB)\n",
      "Requirement already satisfied: torch>=1.7.0 in c:\\python310\\lib\\site-packages (from -r requirements.txt (line 16)) (1.13.1)\n",
      "Collecting torchvision>=0.8.1\n",
      "  Using cached torchvision-0.14.1-cp310-cp310-win_amd64.whl (1.1 MB)\n",
      "Collecting tqdm>=4.64.0\n",
      "  Using cached tqdm-4.64.1-py2.py3-none-any.whl (78 kB)\n",
      "Collecting tensorboard>=2.4.1\n",
      "  Using cached tensorboard-2.12.0-py3-none-any.whl (5.6 MB)\n",
      "Collecting pandas>=1.1.4\n",
      "  Using cached pandas-1.5.3-cp310-cp310-win_amd64.whl (10.4 MB)\n",
      "Collecting seaborn>=0.11.0\n",
      "  Using cached seaborn-0.12.2-py3-none-any.whl (293 kB)\n",
      "Collecting setuptools>=65.5.1\n",
      "  Using cached setuptools-67.2.0-py3-none-any.whl (1.1 MB)\n",
      "Requirement already satisfied: wheel>=0.38.0 in c:\\python310\\lib\\site-packages (from -r requirements.txt (line 43)) (0.38.4)\n",
      "Collecting gitdb<5,>=4.0.1\n",
      "  Using cached gitdb-4.0.10-py3-none-any.whl (62 kB)\n",
      "Requirement already satisfied: stack-data in c:\\users\\diwas\\appdata\\roaming\\python\\python310\\site-packages (from ipython->-r requirements.txt (line 6)) (0.6.2)\n",
      "Requirement already satisfied: decorator in c:\\users\\diwas\\appdata\\roaming\\python\\python310\\site-packages (from ipython->-r requirements.txt (line 6)) (5.1.1)\n",
      "Requirement already satisfied: prompt-toolkit<3.1.0,>=3.0.30 in c:\\users\\diwas\\appdata\\roaming\\python\\python310\\site-packages (from ipython->-r requirements.txt (line 6)) (3.0.36)\n",
      "Requirement already satisfied: jedi>=0.16 in c:\\users\\diwas\\appdata\\roaming\\python\\python310\\site-packages (from ipython->-r requirements.txt (line 6)) (0.18.2)\n",
      "Requirement already satisfied: traitlets>=5 in c:\\python310\\lib\\site-packages (from ipython->-r requirements.txt (line 6)) (5.9.0)\n",
      "Requirement already satisfied: pickleshare in c:\\users\\diwas\\appdata\\roaming\\python\\python310\\site-packages (from ipython->-r requirements.txt (line 6)) (0.7.5)\n",
      "Requirement already satisfied: backcall in c:\\users\\diwas\\appdata\\roaming\\python\\python310\\site-packages (from ipython->-r requirements.txt (line 6)) (0.2.0)\n",
      "Requirement already satisfied: matplotlib-inline in c:\\users\\diwas\\appdata\\roaming\\python\\python310\\site-packages (from ipython->-r requirements.txt (line 6)) (0.1.6)\n",
      "Requirement already satisfied: colorama in c:\\users\\diwas\\appdata\\roaming\\python\\python310\\site-packages (from ipython->-r requirements.txt (line 6)) (0.4.6)\n",
      "Requirement already satisfied: pygments>=2.4.0 in c:\\users\\diwas\\appdata\\roaming\\python\\python310\\site-packages (from ipython->-r requirements.txt (line 6)) (2.14.0)\n",
      "Requirement already satisfied: cycler>=0.10 in c:\\users\\diwas\\appdata\\roaming\\python\\python310\\site-packages (from matplotlib>=3.2.2->-r requirements.txt (line 7)) (0.11.0)\n",
      "Requirement already satisfied: fonttools>=4.22.0 in c:\\python310\\lib\\site-packages (from matplotlib>=3.2.2->-r requirements.txt (line 7)) (4.38.0)\n",
      "Requirement already satisfied: kiwisolver>=1.0.1 in c:\\python310\\lib\\site-packages (from matplotlib>=3.2.2->-r requirements.txt (line 7)) (1.4.4)\n",
      "Requirement already satisfied: contourpy>=1.0.1 in c:\\users\\diwas\\appdata\\roaming\\python\\python310\\site-packages (from matplotlib>=3.2.2->-r requirements.txt (line 7)) (1.0.7)\n",
      "Requirement already satisfied: packaging>=20.0 in c:\\users\\diwas\\appdata\\roaming\\python\\python310\\site-packages (from matplotlib>=3.2.2->-r requirements.txt (line 7)) (23.0)\n",
      "Requirement already satisfied: pyparsing>=2.2.1 in c:\\python310\\lib\\site-packages (from matplotlib>=3.2.2->-r requirements.txt (line 7)) (3.0.9)\n",
      "Requirement already satisfied: python-dateutil>=2.7 in c:\\users\\diwas\\appdata\\roaming\\python\\python310\\site-packages (from matplotlib>=3.2.2->-r requirements.txt (line 7)) (2.8.2)\n",
      "Collecting urllib3<1.27,>=1.21.1\n",
      "  Using cached urllib3-1.26.14-py2.py3-none-any.whl (140 kB)\n",
      "Requirement already satisfied: charset-normalizer<4,>=2 in c:\\python310\\lib\\site-packages (from requests>=2.23.0->-r requirements.txt (line 13)) (3.0.1)\n",
      "Collecting idna<4,>=2.5\n",
      "  Using cached idna-3.4-py3-none-any.whl (61 kB)\n",
      "Collecting certifi>=2017.4.17\n",
      "  Using cached certifi-2022.12.7-py3-none-any.whl (155 kB)\n",
      "Requirement already satisfied: typing-extensions in c:\\python310\\lib\\site-packages (from torch>=1.7.0->-r requirements.txt (line 16)) (4.4.0)\n",
      "Requirement already satisfied: tensorboard-plugin-wit>=1.6.0 in c:\\python310\\lib\\site-packages (from tensorboard>=2.4.1->-r requirements.txt (line 22)) (1.8.1)\n",
      "Collecting protobuf>=3.19.6\n",
      "  Using cached protobuf-4.21.12-cp310-abi3-win_amd64.whl (527 kB)\n",
      "Collecting google-auth<3,>=1.6.3\n",
      "  Using cached google_auth-2.16.0-py2.py3-none-any.whl (177 kB)\n",
      "Collecting werkzeug>=1.0.1\n",
      "  Using cached Werkzeug-2.2.2-py3-none-any.whl (232 kB)\n",
      "Collecting absl-py>=0.4\n",
      "  Using cached absl_py-1.4.0-py3-none-any.whl (126 kB)\n",
      "Collecting grpcio>=1.48.2\n",
      "  Using cached grpcio-1.51.1-cp310-cp310-win_amd64.whl (3.7 MB)\n",
      "Collecting markdown>=2.6.8\n",
      "  Using cached Markdown-3.4.1-py3-none-any.whl (93 kB)\n",
      "Collecting tensorboard-data-server<0.8.0,>=0.7.0\n",
      "  Using cached tensorboard_data_server-0.7.0-py3-none-any.whl (2.4 kB)\n",
      "Collecting google-auth-oauthlib<0.5,>=0.4.1\n",
      "  Using cached google_auth_oauthlib-0.4.6-py2.py3-none-any.whl (18 kB)\n",
      "Requirement already satisfied: pytz>=2020.1 in c:\\python310\\lib\\site-packages (from pandas>=1.1.4->-r requirements.txt (line 27)) (2022.7.1)\n",
      "Collecting smmap<6,>=3.0.1\n",
      "  Using cached smmap-5.0.0-py3-none-any.whl (24 kB)\n",
      "Requirement already satisfied: six>=1.9.0 in c:\\python310\\lib\\site-packages (from google-auth<3,>=1.6.3->tensorboard>=2.4.1->-r requirements.txt (line 22)) (1.16.0)\n",
      "Collecting cachetools<6.0,>=2.0.0\n",
      "  Using cached cachetools-5.3.0-py3-none-any.whl (9.3 kB)\n",
      "Collecting pyasn1-modules>=0.2.1\n",
      "  Using cached pyasn1_modules-0.2.8-py2.py3-none-any.whl (155 kB)\n",
      "Collecting rsa<5,>=3.1.4\n",
      "  Using cached rsa-4.9-py3-none-any.whl (34 kB)\n",
      "Collecting requests-oauthlib>=0.7.0\n",
      "  Using cached requests_oauthlib-1.3.1-py2.py3-none-any.whl (23 kB)\n",
      "Requirement already satisfied: parso<0.9.0,>=0.8.0 in c:\\users\\diwas\\appdata\\roaming\\python\\python310\\site-packages (from jedi>=0.16->ipython->-r requirements.txt (line 6)) (0.8.3)\n",
      "Requirement already satisfied: wcwidth in c:\\python310\\lib\\site-packages (from prompt-toolkit<3.1.0,>=3.0.30->ipython->-r requirements.txt (line 6)) (0.2.6)\n",
      "Collecting MarkupSafe>=2.1.1\n",
      "  Using cached MarkupSafe-2.1.2-cp310-cp310-win_amd64.whl (16 kB)\n",
      "Requirement already satisfied: executing>=1.2.0 in c:\\users\\diwas\\appdata\\roaming\\python\\python310\\site-packages (from stack-data->ipython->-r requirements.txt (line 6)) (1.2.0)\n",
      "Requirement already satisfied: pure-eval in c:\\users\\diwas\\appdata\\roaming\\python\\python310\\site-packages (from stack-data->ipython->-r requirements.txt (line 6)) (0.2.2)\n",
      "Requirement already satisfied: asttokens>=2.1.0 in c:\\users\\diwas\\appdata\\roaming\\python\\python310\\site-packages (from stack-data->ipython->-r requirements.txt (line 6)) (2.2.1)\n",
      "Requirement already satisfied: pyasn1<0.5.0,>=0.4.6 in c:\\python310\\lib\\site-packages (from pyasn1-modules>=0.2.1->google-auth<3,>=1.6.3->tensorboard>=2.4.1->-r requirements.txt (line 22)) (0.4.8)\n",
      "Collecting oauthlib>=3.0.0\n",
      "  Using cached oauthlib-3.2.2-py3-none-any.whl (151 kB)\n",
      "Installing collected packages: urllib3, tqdm, tensorboard-data-server, smmap, setuptools, rsa, PyYAML, pyasn1-modules, protobuf, oauthlib, MarkupSafe, markdown, idna, grpcio, certifi, cachetools, absl-py, werkzeug, thop, requests, pandas, google-auth, gitdb, torchvision, seaborn, requests-oauthlib, gitpython, google-auth-oauthlib, tensorboard\n",
      "Successfully installed MarkupSafe-2.1.2 PyYAML-6.0 absl-py-1.4.0 cachetools-5.3.0 certifi-2022.12.7 gitdb-4.0.10 gitpython-3.1.30 google-auth-2.16.0 google-auth-oauthlib-0.4.6 grpcio-1.51.1 idna-3.4 markdown-3.4.1 oauthlib-3.2.2 pandas-1.5.3 protobuf-4.21.12 pyasn1-modules-0.2.8 requests-2.28.2 requests-oauthlib-1.3.1 rsa-4.9 seaborn-0.12.2 setuptools-67.2.0 smmap-5.0.0 tensorboard-2.12.0 tensorboard-data-server-0.7.0 thop-0.1.1.post2209072238 torchvision-0.14.1 tqdm-4.64.1 urllib3-1.26.14 werkzeug-2.2.2\n"
     ]
    },
    {
     "name": "stderr",
     "output_type": "stream",
     "text": [
      "WARNING: Ignoring invalid distribution -ip (c:\\python310\\lib\\site-packages)\n",
      "WARNING: Ignoring invalid distribution -ip (c:\\python310\\lib\\site-packages)\n",
      "WARNING: Ignoring invalid distribution -ip (c:\\python310\\lib\\site-packages)\n",
      "  WARNING: The script tqdm.exe is installed in 'C:\\Users\\diwas\\AppData\\Roaming\\Python\\Python310\\Scripts' which is not on PATH.\n",
      "  Consider adding this directory to PATH or, if you prefer to suppress this warning, use --no-warn-script-location.\n",
      "  WARNING: The scripts pyrsa-decrypt.exe, pyrsa-encrypt.exe, pyrsa-keygen.exe, pyrsa-priv2pub.exe, pyrsa-sign.exe and pyrsa-verify.exe are installed in 'C:\\Users\\diwas\\AppData\\Roaming\\Python\\Python310\\Scripts' which is not on PATH.\n",
      "  Consider adding this directory to PATH or, if you prefer to suppress this warning, use --no-warn-script-location.\n",
      "  WARNING: The script markdown_py.exe is installed in 'C:\\Users\\diwas\\AppData\\Roaming\\Python\\Python310\\Scripts' which is not on PATH.\n",
      "  Consider adding this directory to PATH or, if you prefer to suppress this warning, use --no-warn-script-location.\n",
      "  WARNING: The script google-oauthlib-tool.exe is installed in 'C:\\Users\\diwas\\AppData\\Roaming\\Python\\Python310\\Scripts' which is not on PATH.\n",
      "  Consider adding this directory to PATH or, if you prefer to suppress this warning, use --no-warn-script-location.\n",
      "  WARNING: The script tensorboard.exe is installed in 'C:\\Users\\diwas\\AppData\\Roaming\\Python\\Python310\\Scripts' which is not on PATH.\n",
      "  Consider adding this directory to PATH or, if you prefer to suppress this warning, use --no-warn-script-location.\n",
      "WARNING: Ignoring invalid distribution -ip (c:\\python310\\lib\\site-packages)\n"
     ]
    }
   ],
   "source": [
    "!cd yolov5 & pip install -r requirements.txt --user"
   ]
  },
  {
   "cell_type": "code",
   "execution_count": 6,
   "metadata": {},
   "outputs": [
    {
     "name": "stdout",
     "output_type": "stream",
     "text": [
      "Collecting matplotlib\n",
      "  Downloading matplotlib-3.6.3-cp38-cp38-win_amd64.whl (7.2 MB)\n",
      "     ---------------------------------------- 0.0/7.2 MB ? eta -:--:--\n",
      "      --------------------------------------- 0.1/7.2 MB 2.4 MB/s eta 0:00:03\n",
      "     -- ------------------------------------- 0.4/7.2 MB 3.8 MB/s eta 0:00:02\n",
      "     ---- ----------------------------------- 0.9/7.2 MB 6.0 MB/s eta 0:00:02\n",
      "     ------ --------------------------------- 1.1/7.2 MB 6.0 MB/s eta 0:00:02\n",
      "     -------- ------------------------------- 1.5/7.2 MB 6.5 MB/s eta 0:00:01\n",
      "     ----------- ---------------------------- 2.0/7.2 MB 7.1 MB/s eta 0:00:01\n",
      "     ------------- -------------------------- 2.4/7.2 MB 7.1 MB/s eta 0:00:01\n",
      "     ---------------- ----------------------- 2.9/7.2 MB 7.4 MB/s eta 0:00:01\n",
      "     ------------------ --------------------- 3.3/7.2 MB 7.6 MB/s eta 0:00:01\n",
      "     ---------------------- ----------------- 4.0/7.2 MB 8.3 MB/s eta 0:00:01\n",
      "     ------------------------ --------------- 4.4/7.2 MB 8.3 MB/s eta 0:00:01\n",
      "     -------------------------- ------------- 4.8/7.2 MB 8.3 MB/s eta 0:00:01\n",
      "     ------------------------------ --------- 5.5/7.2 MB 8.7 MB/s eta 0:00:01\n",
      "     ----------------------------------- ---- 6.3/7.2 MB 9.2 MB/s eta 0:00:01\n",
      "     ------------------------------------- -- 6.9/7.2 MB 9.3 MB/s eta 0:00:01\n",
      "     ---------------------------------------  7.2/7.2 MB 9.4 MB/s eta 0:00:01\n",
      "     ---------------------------------------- 7.2/7.2 MB 8.5 MB/s eta 0:00:00\n",
      "Requirement already satisfied: numpy in c:\\users\\diwas\\appdata\\local\\programs\\python\\python38\\lib\\site-packages (1.23.5)\n",
      "Collecting opencv-python\n",
      "  Using cached opencv_python-4.7.0.68-cp37-abi3-win_amd64.whl (38.2 MB)\n",
      "Requirement already satisfied: python-dateutil>=2.7 in c:\\users\\diwas\\appdata\\local\\programs\\python\\python38\\lib\\site-packages (from matplotlib) (2.8.2)\n",
      "Collecting cycler>=0.10\n",
      "  Using cached cycler-0.11.0-py3-none-any.whl (6.4 kB)\n",
      "Collecting kiwisolver>=1.0.1\n",
      "  Downloading kiwisolver-1.4.4-cp38-cp38-win_amd64.whl (55 kB)\n",
      "     ---------------------------------------- 0.0/55.4 kB ? eta -:--:--\n",
      "     ---------------------------------------- 55.4/55.4 kB ? eta 0:00:00\n",
      "Collecting fonttools>=4.22.0\n",
      "  Using cached fonttools-4.38.0-py3-none-any.whl (965 kB)\n",
      "Requirement already satisfied: pillow>=6.2.0 in c:\\users\\diwas\\appdata\\local\\programs\\python\\python38\\lib\\site-packages (from matplotlib) (7.1.1)\n",
      "Collecting contourpy>=1.0.1\n",
      "  Downloading contourpy-1.0.7-cp38-cp38-win_amd64.whl (162 kB)\n",
      "     ---------------------------------------- 0.0/163.0 kB ? eta -:--:--\n",
      "     -------------------------------------- 163.0/163.0 kB 9.5 MB/s eta 0:00:00\n",
      "Collecting pyparsing>=2.2.1\n",
      "  Using cached pyparsing-3.0.9-py3-none-any.whl (98 kB)\n",
      "Requirement already satisfied: packaging>=20.0 in c:\\users\\diwas\\appdata\\local\\programs\\python\\python38\\lib\\site-packages (from matplotlib) (23.0)\n",
      "Requirement already satisfied: six>=1.5 in c:\\users\\diwas\\appdata\\roaming\\python\\python38\\site-packages (from python-dateutil>=2.7->matplotlib) (1.14.0)\n",
      "Installing collected packages: pyparsing, opencv-python, kiwisolver, fonttools, cycler, contourpy, matplotlib\n",
      "Successfully installed contourpy-1.0.7 cycler-0.11.0 fonttools-4.38.0 kiwisolver-1.4.4 matplotlib-3.6.3 opencv-python-4.7.0.68 pyparsing-3.0.9\n",
      "Note: you may need to restart the kernel to use updated packages.\n"
     ]
    },
    {
     "name": "stderr",
     "output_type": "stream",
     "text": [
      "  WARNING: Retrying (Retry(total=4, connect=None, read=None, redirect=None, status=None)) after connection broken by 'ConnectTimeoutError(<pip._vendor.urllib3.connection.HTTPSConnection object at 0x000002094D5A63D0>, 'Connection to files.pythonhosted.org timed out. (connect timeout=15)')': /packages/e5/0e/de561b1fccd7505593d642ad0ff0d486160dea6f14682722058e17d32bda/matplotlib-3.6.3-cp38-cp38-win_amd64.whl\n",
      "  WARNING: Retrying (Retry(total=3, connect=None, read=None, redirect=None, status=None)) after connection broken by 'ConnectTimeoutError(<pip._vendor.urllib3.connection.HTTPSConnection object at 0x000002094D5A6640>, 'Connection to files.pythonhosted.org timed out. (connect timeout=15)')': /packages/e5/0e/de561b1fccd7505593d642ad0ff0d486160dea6f14682722058e17d32bda/matplotlib-3.6.3-cp38-cp38-win_amd64.whl\n"
     ]
    }
   ],
   "source": [
    "pip install matplotlib numpy opencv-python"
   ]
  },
  {
   "cell_type": "code",
   "execution_count": 1,
   "metadata": {},
   "outputs": [],
   "source": [
    "import torch\n",
    "from matplotlib import pyplot as plt\n",
    "import numpy as np\n",
    "import cv2"
   ]
  },
  {
   "cell_type": "code",
   "execution_count": 11,
   "metadata": {},
   "outputs": [
    {
     "name": "stdout",
     "output_type": "stream",
     "text": [
      "Collecting pandas\n",
      "  Downloading pandas-1.5.3-cp38-cp38-win_amd64.whl (11.0 MB)\n",
      "     ---------------------------------------- 0.0/11.0 MB ? eta -:--:--\n",
      "     ---------------------------------------- 0.0/11.0 MB 1.4 MB/s eta 0:00:09\n",
      "     ---------------------------------------- 0.1/11.0 MB 1.1 MB/s eta 0:00:10\n",
      "      --------------------------------------- 0.2/11.0 MB 1.4 MB/s eta 0:00:08\n",
      "     - -------------------------------------- 0.3/11.0 MB 1.5 MB/s eta 0:00:08\n",
      "     - -------------------------------------- 0.4/11.0 MB 1.7 MB/s eta 0:00:07\n",
      "     -- ------------------------------------- 0.7/11.0 MB 2.2 MB/s eta 0:00:05\n",
      "     --- ------------------------------------ 0.9/11.0 MB 2.5 MB/s eta 0:00:05\n",
      "     ----- ---------------------------------- 1.5/11.0 MB 3.6 MB/s eta 0:00:03\n",
      "     ------- -------------------------------- 2.0/11.0 MB 4.5 MB/s eta 0:00:02\n",
      "     --------- ------------------------------ 2.6/11.0 MB 5.3 MB/s eta 0:00:02\n",
      "     ----------- ---------------------------- 3.1/11.0 MB 5.8 MB/s eta 0:00:02\n",
      "     ------------- -------------------------- 3.7/11.0 MB 6.1 MB/s eta 0:00:02\n",
      "     --------------- ------------------------ 4.2/11.0 MB 6.8 MB/s eta 0:00:01\n",
      "     ----------------- ---------------------- 4.8/11.0 MB 7.0 MB/s eta 0:00:01\n",
      "     ------------------- -------------------- 5.4/11.0 MB 7.3 MB/s eta 0:00:01\n",
      "     --------------------- ------------------ 5.9/11.0 MB 7.6 MB/s eta 0:00:01\n",
      "     ----------------------- ---------------- 6.4/11.0 MB 7.9 MB/s eta 0:00:01\n",
      "     ------------------------- -------------- 7.0/11.0 MB 8.1 MB/s eta 0:00:01\n",
      "     --------------------------- ------------ 7.5/11.0 MB 8.1 MB/s eta 0:00:01\n",
      "     ----------------------------- ---------- 8.2/11.0 MB 8.3 MB/s eta 0:00:01\n",
      "     ------------------------------- -------- 8.7/11.0 MB 8.3 MB/s eta 0:00:01\n",
      "     ---------------------------------- ----- 9.4/11.0 MB 8.5 MB/s eta 0:00:01\n",
      "     ------------------------------------ --- 9.9/11.0 MB 8.6 MB/s eta 0:00:01\n",
      "     ------------------------------------- - 10.6/11.0 MB 10.4 MB/s eta 0:00:01\n",
      "     --------------------------------------  11.0/11.0 MB 10.9 MB/s eta 0:00:01\n",
      "     --------------------------------------- 11.0/11.0 MB 10.4 MB/s eta 0:00:00\n",
      "Requirement already satisfied: numpy>=1.20.3 in c:\\users\\diwas\\appdata\\local\\programs\\python\\python38\\lib\\site-packages (from pandas) (1.23.5)\n",
      "Requirement already satisfied: python-dateutil>=2.8.1 in c:\\users\\diwas\\appdata\\local\\programs\\python\\python38\\lib\\site-packages (from pandas) (2.8.2)\n",
      "Collecting pytz>=2020.1\n",
      "  Downloading pytz-2022.7.1-py2.py3-none-any.whl (499 kB)\n",
      "     ---------------------------------------- 0.0/499.4 kB ? eta -:--:--\n",
      "     ------------------------------------- 499.4/499.4 kB 10.4 MB/s eta 0:00:00\n",
      "Requirement already satisfied: six>=1.5 in c:\\users\\diwas\\appdata\\roaming\\python\\python38\\site-packages (from python-dateutil>=2.8.1->pandas) (1.14.0)\n",
      "Installing collected packages: pytz, pandas\n",
      "  Attempting uninstall: pytz\n",
      "    Found existing installation: pytz 2019.3\n",
      "    Uninstalling pytz-2019.3:\n",
      "      Successfully uninstalled pytz-2019.3\n",
      "Successfully installed pandas-1.5.3 pytz-2022.7.1\n",
      "Note: you may need to restart the kernel to use updated packages.\n"
     ]
    }
   ],
   "source": [
    "pip install pandas"
   ]
  },
  {
   "cell_type": "code",
   "execution_count": 7,
   "metadata": {},
   "outputs": [
    {
     "name": "stdout",
     "output_type": "stream",
     "text": [
      "Collecting seaborn\n",
      "  Using cached seaborn-0.12.2-py3-none-any.whl (293 kB)\n",
      "Requirement already satisfied: pandas>=0.25 in c:\\users\\diwas\\appdata\\local\\programs\\python\\python38\\lib\\site-packages (from seaborn) (1.5.3)\n",
      "Requirement already satisfied: matplotlib!=3.6.1,>=3.1 in c:\\users\\diwas\\appdata\\local\\programs\\python\\python38\\lib\\site-packages (from seaborn) (3.6.3)\n",
      "Requirement already satisfied: numpy!=1.24.0,>=1.17 in c:\\users\\diwas\\appdata\\local\\programs\\python\\python38\\lib\\site-packages (from seaborn) (1.23.5)\n",
      "Requirement already satisfied: cycler>=0.10 in c:\\users\\diwas\\appdata\\local\\programs\\python\\python38\\lib\\site-packages (from matplotlib!=3.6.1,>=3.1->seaborn) (0.11.0)\n",
      "Requirement already satisfied: packaging>=20.0 in c:\\users\\diwas\\appdata\\local\\programs\\python\\python38\\lib\\site-packages (from matplotlib!=3.6.1,>=3.1->seaborn) (23.0)\n",
      "Requirement already satisfied: kiwisolver>=1.0.1 in c:\\users\\diwas\\appdata\\local\\programs\\python\\python38\\lib\\site-packages (from matplotlib!=3.6.1,>=3.1->seaborn) (1.4.4)\n",
      "Requirement already satisfied: contourpy>=1.0.1 in c:\\users\\diwas\\appdata\\local\\programs\\python\\python38\\lib\\site-packages (from matplotlib!=3.6.1,>=3.1->seaborn) (1.0.7)\n",
      "Requirement already satisfied: python-dateutil>=2.7 in c:\\users\\diwas\\appdata\\local\\programs\\python\\python38\\lib\\site-packages (from matplotlib!=3.6.1,>=3.1->seaborn) (2.8.2)\n",
      "Requirement already satisfied: fonttools>=4.22.0 in c:\\users\\diwas\\appdata\\local\\programs\\python\\python38\\lib\\site-packages (from matplotlib!=3.6.1,>=3.1->seaborn) (4.38.0)\n",
      "Requirement already satisfied: pillow>=6.2.0 in c:\\users\\diwas\\appdata\\local\\programs\\python\\python38\\lib\\site-packages (from matplotlib!=3.6.1,>=3.1->seaborn) (7.1.1)\n",
      "Requirement already satisfied: pyparsing>=2.2.1 in c:\\users\\diwas\\appdata\\local\\programs\\python\\python38\\lib\\site-packages (from matplotlib!=3.6.1,>=3.1->seaborn) (3.0.9)\n",
      "Requirement already satisfied: pytz>=2020.1 in c:\\users\\diwas\\appdata\\local\\programs\\python\\python38\\lib\\site-packages (from pandas>=0.25->seaborn) (2022.7.1)\n",
      "Requirement already satisfied: six>=1.5 in c:\\users\\diwas\\appdata\\roaming\\python\\python38\\site-packages (from python-dateutil>=2.7->matplotlib!=3.6.1,>=3.1->seaborn) (1.14.0)\n",
      "Installing collected packages: seaborn\n",
      "Successfully installed seaborn-0.12.2\n",
      "Note: you may need to restart the kernel to use updated packages.\n"
     ]
    }
   ],
   "source": [
    "pip install seaborn\n"
   ]
  },
  {
   "cell_type": "code",
   "execution_count": 8,
   "metadata": {},
   "outputs": [
    {
     "name": "stderr",
     "output_type": "stream",
     "text": [
      "Downloading: \"https://github.com/ultralytics/yolov5/zipball/master\" to C:\\Users\\diwas/.cache\\torch\\hub\\master.zip\n",
      "\u001b[31m\u001b[1mrequirements:\u001b[0m YOLOv5 requirements \"gitpython\" \"Pillow>=7.1.2\" \"setuptools>=65.5.1\" \"wheel>=0.38.0\" not found, attempting AutoUpdate...\n",
      "Requirement already satisfied: gitpython in c:\\users\\diwas\\appdata\\roaming\\python\\python310\\site-packages (3.1.30)\n",
      "Requirement already satisfied: Pillow>=7.1.2 in c:\\python310\\lib\\site-packages (9.4.0)\n",
      "Requirement already satisfied: setuptools>=65.5.1 in c:\\users\\diwas\\appdata\\roaming\\python\\python310\\site-packages (67.2.0)\n",
      "Requirement already satisfied: wheel>=0.38.0 in c:\\python310\\lib\\site-packages (0.38.4)\n",
      "Requirement already satisfied: gitdb<5,>=4.0.1 in c:\\users\\diwas\\appdata\\roaming\\python\\python310\\site-packages (from gitpython) (4.0.10)\n",
      "Requirement already satisfied: smmap<6,>=3.0.1 in c:\\users\\diwas\\appdata\\roaming\\python\\python310\\site-packages (from gitdb<5,>=4.0.1->gitpython) (5.0.0)\n",
      "\n",
      "\u001b[31m\u001b[1mrequirements:\u001b[0m 4 packages updated per C:\\Users\\diwas\\.cache\\torch\\hub\\ultralytics_yolov5_master\\requirements.txt\n",
      "\u001b[31m\u001b[1mrequirements:\u001b[0m  \u001b[1mRestart runtime or rerun command for updates to take effect\u001b[0m\n",
      "\n",
      "YOLOv5  2023-2-13 Python-3.8.2 torch-1.13.1+cu116 CUDA:0 (NVIDIA GeForce GTX 1660 Ti, 6144MiB)\n",
      "\n",
      "Downloading https://github.com/ultralytics/yolov5/releases/download/v7.0/yolov5s.pt to yolov5s.pt...\n",
      "100.0%\n",
      "\n",
      "Fusing layers... \n",
      "YOLOv5s summary: 213 layers, 7225885 parameters, 0 gradients\n",
      "Adding AutoShape... \n"
     ]
    }
   ],
   "source": [
    "model = torch.hub.load('ultralytics/yolov5', 'yolov5s',force_reload=True,trust_repo=True)"
   ]
  },
  {
   "cell_type": "code",
   "execution_count": 12,
   "metadata": {},
   "outputs": [],
   "source": [
    "cap = cv2.VideoCapture('test4.mp4')\n",
    "while cap.isOpened():\n",
    "    ret, frame = cap.read()\n",
    "    \n",
    "    # Make detections \n",
    "    results = model(frame)\n",
    "    \n",
    "    cv2.imshow('YOLO', np.squeeze(results.render()))\n",
    "    \n",
    "    if cv2.waitKey(10) & 0xFF == ord('q'):\n",
    "        break\n",
    "cap.release()\n",
    "cv2.destroyAllWindows()"
   ]
  }
 ],
 "metadata": {
  "kernelspec": {
   "display_name": "Python 3.8.2 64-bit",
   "language": "python",
   "name": "python3"
  },
  "language_info": {
   "codemirror_mode": {
    "name": "ipython",
    "version": 3
   },
   "file_extension": ".py",
   "mimetype": "text/x-python",
   "name": "python",
   "nbconvert_exporter": "python",
   "pygments_lexer": "ipython3",
   "version": "3.8.2"
  },
  "orig_nbformat": 4,
  "vscode": {
   "interpreter": {
    "hash": "a58e3f7f61f6b71130e14aabc5ba484a73bd7d5941c6b43e55f81f48b3ee511a"
   }
  }
 },
 "nbformat": 4,
 "nbformat_minor": 2
}
